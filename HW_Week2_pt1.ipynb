{
 "cells": [
  {
   "cell_type": "markdown",
   "metadata": {},
   "source": [
    "# ECE 105 Homework 2"
   ]
  },
  {
   "cell_type": "markdown",
   "metadata": {},
   "source": [
    "**Please turn in a PDF with all your outputs along with your jupyter notebook when you upload your assignment on BBLearn. You can find the details to convert a notebook into a PDF at the bottom of this notebook.**\n",
    "\n",
    "**This code will take time to run so please understand that it is not possible for the TA's to run all your notebooks. If you face issues converting your notebook, then upload your plot as an image or PDF along with your analysis of the plot in the comment section in BBLearn portal. If you face errors in doing either then make sure to write that in the comment section too so that we know what went wrong. Again, do not turn in your notebook without any description.**"
   ]
  },
  {
   "cell_type": "markdown",
   "metadata": {},
   "source": [
    "## Multi Armed Bandit (MAB) problem"
   ]
  },
  {
   "cell_type": "markdown",
   "metadata": {},
   "source": [
    "Let us suppose that you are a rookie gambler who walks into a casino hoping to make some quick buck on a certain day. Since you are rookie the safest thing that you can play is a slot machine since other games like blackjack or poker might me little hard for you. So you go to the slot machine zone and you find $m$ slot machines there. Now, let's assume that the manager told you that each machines has a different probability of winning and you have total $N$ number of pulls that you can use. Remember, the manager didn't specify which machine was fairer and how high was the chance of winning on it than the others. This is for you to find out. \n",
    "\n",
    "Also, the manager told you that you can pull each bandit/slot handle a maximum of $k$ times before you start betting in order to find out the probability of winning on machine $i \\in [1,..,m]$ . Now you are here to win and take some dough back home. To do that you would have to do the following:\n",
    "\n",
    "\n",
    "1) Explore:\n",
    "The explore stage involves pulling each arm a certain number of times, $k$, and using these results to estimate the win probabilities on each arm, yielding an estimate of the arm with the best win probability.\n",
    "\n",
    "\n",
    "2) Exploit: \n",
    "The exploit stage involves pulling the arm estimated to be best for the remaining $N−km$ trials.\n",
    "\n",
    "The question is how to choose $k$ as a function of $(m, N)$: choosing $k$ too small (not enough exploring) will lead to a higher probability of choosing a sub-optimal arm, while choosing $k$ too large (not enough exploiting) will lead to a sub-optimal win amount. This is in a nutshell the (MAB) problem. \n",
    "\n",
    "To be concrete, consider the simplest case with $m = 2$ arms and $n = 20$ pulls. How many pulls $k$ of each arm\n",
    "are best, on average, so that pulling the estimated best arm the rest of the trials results in the highest average win amount? This is a non-trivial question, and well-suited to investigation by computer simulation. What happens\n",
    "as the number of trials, $n$, increases? Intuitively, as your “pull budget” increases, you should spend more time\n",
    "exploring, so as to have a higher confidence in having found the right arm, but it is not clear exactly how much\n",
    "exploring is appropriate.\n",
    "\n",
    "In this lab we will explore the (MAB) problem. We will be providing the starter code. For the homework you will be asked to fill out code snippets and analyze the resultant plot that you woud get"
   ]
  },
  {
   "cell_type": "markdown",
   "metadata": {},
   "source": [
    "## Starter code for MAB"
   ]
  },
  {
   "cell_type": "markdown",
   "metadata": {},
   "source": [
    "Please read and understand the the fucntions blocks that are provided below before you start working on the assignment."
   ]
  },
  {
   "cell_type": "markdown",
   "metadata": {},
   "source": [
    "### pull_arm(p,n): make $n$ pulls on an arm with win prob $p$"
   ]
  },
  {
   "cell_type": "code",
   "execution_count": 1,
   "metadata": {},
   "outputs": [],
   "source": [
    "\"\"\"\n",
    "pull_arm: make n pulls on an arm with win prob. p\n",
    "input p: probability of win\n",
    "input n: number of pulls\n",
    "return: a np.array of length n\n",
    "note: 1 represents win and 0 represents loss\n",
    "\"\"\"\n",
    "def pull_arm(p, n):\n",
    "    # return random length n list with values {0,1}\n",
    "    # each entry equals 1 w.p. p or 0 w.p. 1-p\n",
    "    return np.random.choice([1,0], p=[p, 1-p], size=n)"
   ]
  },
  {
   "cell_type": "markdown",
   "metadata": {},
   "source": [
    "### create\\_MAB(m,n): create a MAB with $m$ arms and pull each arm $n$ times"
   ]
  },
  {
   "cell_type": "code",
   "execution_count": 2,
   "metadata": {},
   "outputs": [],
   "source": [
    "\"\"\"\n",
    "create_MAB: create a MAB with m arms and pull each arm n times\n",
    "each of the m arms has a win probability pe chosen uniformly\n",
    "at random over the interval [0,1]\n",
    "input m: number of arms\n",
    "input n: number of pulls\n",
    "return p: list of m arm win probabilities\n",
    "return M: np.array of dimension m times n of arm pulls\n",
    "note: every element of M is 1 (win) or 0 (loss)\n",
    "note: M[a,i] the outcome of pull i (out of n) of arm a (out of m)\n",
    "\"\"\"\n",
    "def create_MAB(m, n):\n",
    "    p = np.random.uniform(0, 1, m)\n",
    "    M = np.array([pull_arm(pe, n) for pe in p])\n",
    "    return p, M"
   ]
  },
  {
   "cell_type": "markdown",
   "metadata": {},
   "source": [
    "### play\\_MAB(m,n,t): play MAB with $m$ arms using $n$ pulls with $t$ max explore pulls per arm "
   ]
  },
  {
   "cell_type": "code",
   "execution_count": 3,
   "metadata": {},
   "outputs": [],
   "source": [
    "\"\"\"\n",
    "play_MAB: play MAB with m arms using n pulls with t max explore pulls per arm\n",
    "input m: number of arms\n",
    "input n: number of pulls\n",
    "input t: max # explore pulls\n",
    "return: ratio of wealth earned over wealth pulling best arm\n",
    "\"\"\"\n",
    "def play_MAB(m, n, t):\n",
    "    # call create_MAB to obtain the win probabilities p and the outcomes M\n",
    "    p, M = create_MAB(m, n)\n",
    "    # call explore_MAB to determine the number of trials per arm, k\n",
    "    k = explore_MAB(m, n, t)\n",
    "    \"\"\"\n",
    "    access the specific entries of each row a of the outcomes M for each arm\n",
    "    for arm a = 0,...,m-1 we access k entries\n",
    "    starting with index a * k, and ending with index (a+1)*k-1\n",
    "    then, sum these entries up to get the number of wins from each arm a\n",
    "    so, w_est is a list of length m, holding # wins on each arm out of k pulls\n",
    "    \"\"\"\n",
    "    w_est = [np.sum(M[a, a*k : (a+1)*k]) for a in range(m)]\n",
    "    \"\"\"\n",
    "    a_est is the best guess for the best arm, based upon the results in w_est\n",
    "    use the np.where command to obtain the indices in w_est holding the max\n",
    "    it is possible for there to be multiple maxima, we break ties by choosing\n",
    "    the maximum with the lowest index\n",
    "    \"\"\"\n",
    "    a_est = np.where(np.array(w_est) == max(w_est))[0][0]\n",
    "    \"\"\"\n",
    "    having tested each of the arms, and guessed the best arm, now use the rest\n",
    "    of the trials to pull that arm.  As we have used m * k trials exploring,\n",
    "    we start at trial index m *k and go through the end, i.e., to n-1\n",
    "    add the sum of wins from these trials to the list w_est using append\n",
    "    \"\"\"\n",
    "    w_est.append(np.sum(M[a_est, m*k : n]))\n",
    "    \"\"\"\n",
    "    now, use np.where to identify the arm with the actual best win probability\n",
    "    from the list of win probabilities p (break ties by choosing lowest index)\n",
    "    \"\"\"\n",
    "    a_best = np.where(np.array(p) == max(p))[0][0]\n",
    "    \"\"\"\n",
    "    now, suppose you knew the value of p in advance, and then pulled that arm\n",
    "    for all n trials, yielding the best possible win w_best\n",
    "    \"\"\"\n",
    "    w_best = M[a_best,:]\n",
    "    \"\"\"\n",
    "    it is possible that w_best sums to zero, e.g., if all values of p are\n",
    "    very small.  In this case, we report a value of -1, and will interpret it\n",
    "    as a failed trial.  Otherwise, sum up w_est and w_best and return their\n",
    "    fraction, which represents the fraction of the maximum possible wealth\n",
    "    obtained without foreknowledge of p\n",
    "    \"\"\"\n",
    "    return np.sum(w_est)/np.sum(w_best) if np.sum(w_best) > 0 else -1\n"
   ]
  },
  {
   "cell_type": "markdown",
   "metadata": {},
   "source": [
    "### play\\_MAB\\_ave(m,n,t): call play\\_MAB(m,n,t) N times and average results "
   ]
  },
  {
   "cell_type": "code",
   "execution_count": 4,
   "metadata": {},
   "outputs": [],
   "source": [
    "\"\"\"\n",
    "play_MAB_ave: call play_MAB(m,n,t) N times and average results\n",
    "input m: number of arms\n",
    "input n: number of pulls\n",
    "input t: max # explore pulls\n",
    "input N: number of independent trials\n",
    "return average over valid trials\n",
    "\"\"\"\n",
    "def play_MAB_ave(m, n, t, N):\n",
    "    # call play_MAB N times and store results in res\n",
    "    res = [play_MAB(m, n, t) for _ in range(N)]\n",
    "    \"\"\"\n",
    "    as explained in play_MAB comments, not all trials are successful\n",
    "    unsuccessful trial return a value of -1, while successful trials\n",
    "    return a value between 0 and 1, the fraction of wealth obtained over\n",
    "    the maximum possible wealth obtainable\n",
    "    res_cal sums the outcomes of trials with r >= 0\n",
    "    res_cnt counts the number of trials with r >= 0\n",
    "    \"\"\"\n",
    "    res_val = sum([r for r in res if r >= 0])\n",
    "    res_cnt = sum([1 for r in res if r >= 0])\n",
    "    # return the average value of the successful trials\n",
    "    return res_val / res_cnt"
   ]
  },
  {
   "cell_type": "markdown",
   "metadata": {},
   "source": [
    "### explore\\_MAB(m,n,t): compute \\# of trial pulls $k \\leq t$ of each arm given $n$ pulls "
   ]
  },
  {
   "cell_type": "code",
   "execution_count": 5,
   "metadata": {},
   "outputs": [],
   "source": [
    "\"\"\"\n",
    "explore_MAB: compute # of trial pulls k <= t of each arm given n pulls\n",
    "input m: number of arms\n",
    "input n: number of pulls\n",
    "input t: max # explore pulls\n",
    "return: # of explore pulls of each arm\n",
    "note: n/m is the number of trials per arm if we spend equal effort on each arm\n",
    "if n/m < t then it is not possible to pull each arm t times\n",
    "if n/m < t then pull each arm int(1.*n/m) times\n",
    "else, if n/m > t, then we *can* afford to pull each arm t times\n",
    "and will have n - t * m pulls left over for pulling the estimated best arm\n",
    "\"\"\"\n",
    "def explore_MAB(m, n, t):\n",
    "    return int(1.*n/m) if n/m < t else t\n"
   ]
  },
  {
   "cell_type": "markdown",
   "metadata": {},
   "source": [
    "## For the homework you have to complete the following function block and run the whole code for an input instance of your choice"
   ]
  },
  {
   "cell_type": "markdown",
   "metadata": {},
   "source": [
    "### plot\\_MAB(m, N, n\\_set, t\\_set, f\\_set, filename): plot the results"
   ]
  },
  {
   "cell_type": "code",
   "execution_count": 6,
   "metadata": {},
   "outputs": [],
   "source": [
    "\"\"\"\n",
    "plot_MAB\n",
    "input m: number of arms\n",
    "input N: number of trials\n",
    "input n_set: set of # of pulls\n",
    "input t_set: set of max # explore pulls\n",
    "input f_set: average fraction of max wealth achieved\n",
    "plot the results and save the file\n",
    "\"\"\"\n",
    "\n",
    "\"\"\"\n",
    "    plot the results for each value t in t_set\n",
    "    x-axis is the number of trials, given by n_set\n",
    "    y-axis is the average fraction of wealth obtained\n",
    "    use zip to allow labels for each value of t in t_set\n",
    "    \"\"\"\n",
    "#define your function below with function name provided above\n",
    "\n",
    "import matplotlib.pyplot as plt\n",
    "import numpy as np\n",
    "\n",
    "def plot_MAB(m, N, n_set, t_set, f_set, filename):\n",
    "    \n",
    "    plt.subplot(1,1,1)\n",
    "    plt.title('Number of Trials against Average Fraction of Wealth Obtained')\n",
    "    plt.xlabel('Number of Pulls')\n",
    "    plt.ylabel('Average Fraction of Wealth Obtained')\n",
    "    for t in t_set:\n",
    "        my_list= []\n",
    "        for n in n_set:\n",
    "            my_list.append(play_MAB_ave(m,n,t,N))\n",
    "        f_set.append(my_list)\n",
    "    [plt.plot(n_set, f, label='Explore Pulls={}'.format(t)) for f, t in zip(f_set, t_set)]\n",
    "    plt.legend(loc='upper center', bbox_to_anchor=(1.2,0.8))\n",
    "    plt.savefig(filename)\n",
    "    \n"
   ]
  },
  {
   "cell_type": "markdown",
   "metadata": {},
   "source": [
    "### Calling the above functions to make the plot"
   ]
  },
  {
   "cell_type": "markdown",
   "metadata": {},
   "source": [
    "Choose the parameters of your choice. For example you might want to choose $m=2$ for starter and then check for higher values. Please note that as you increase the parameter values your running time will increase so don't panic if your code takes considerable amount of time to run."
   ]
  },
  {
   "cell_type": "code",
   "execution_count": 7,
   "metadata": {
    "scrolled": false
   },
   "outputs": [
    {
     "data": {
      "image/png": "[encoded data removed]",
      "text/plain": [
       "<Figure size 432x288 with 1 Axes>"
      ]
     },
     "metadata": {
      "needs_background": "light"
     },
     "output_type": "display_data"
    }
   ],
   "source": [
    "# define m: number of arms\n",
    "\n",
    "# define N: number of trials\n",
    "\n",
    "# define n_set: set of # of pulls (20, 40, 60, ..., 580, 600)\n",
    "\n",
    "# define t_set: set of max # explore pulls\n",
    "\n",
    "# define f_set: average fraction of max wealth achieved\n",
    "\n",
    "# assign a filename\n",
    "\n",
    "# plot the results\n",
    "m=8\n",
    "N=100\n",
    "n_set=[]\n",
    "[n_set.append(i) for i in range(20,601,20)]\n",
    "t_set=[2, 4, 8, 16, 32, 64]\n",
    "f_set=[]\n",
    "filename=\"results.pdf\"\n",
    "plot_MAB(m, N, n_set, t_set, f_set, filename)\n"
   ]
  },
  {
   "cell_type": "markdown",
   "metadata": {},
   "source": [
    "### Analyze and comment below on the plot that you got  "
   ]
  },
  {
   "cell_type": "markdown",
   "metadata": {},
   "source": [
    "You don't have to be too descriptive about the analysis. A simple intutive explanation would also work as long it is clear to us that you understood what you were doing"
   ]
  },
  {
   "cell_type": "markdown",
   "metadata": {},
   "source": [
    "From the plot, we can see that to achieve the highest probability of acquiring the maximum amount of wealth, the first four to eight pulls need to be used for exploration to determine the best arm. After this, the rest of the pulls are to be used on this best arm. For this graph, the total number of pulls are six hundred."
   ]
  },
  {
   "cell_type": "markdown",
   "metadata": {},
   "source": [
    "### How to save a .ipynb file as a pdf "
   ]
  },
  {
   "cell_type": "markdown",
   "metadata": {},
   "source": [
    "Please note that you might face issues if you directly try to convert this notebook to pdf by using the \"download as\" option from the dropdown menu under File above. You may skip the steps below if you already know how to convert it into pdf. If you don't then do the following:\n",
    "\n",
    "1) run the command \"conda install nbconvert\" or \"pip install nbconvert\" from your terminal depending on whether you are using anaconda to run python or not. If you are using anaconda then run the former command otherwise latter.\n",
    "\n",
    "2) Once you have succesfully installed the nbconvert module, go to the directory from your terminal where you notebook is saved and run the command \"jupyter nbconvert name_of_your_notebook.ipynb --to pdf\". This command will convert your .ipynb file to a pdf\n",
    "\n",
    "Please reach out to us if you face any issues."
   ]
  },
  {
   "cell_type": "code",
   "execution_count": null,
   "metadata": {},
   "outputs": [],
   "source": []
  }
 ],
 "metadata": {
  "kernelspec": {
   "display_name": "Python 3",
   "language": "python",
   "name": "python3"
  },
  "language_info": {
   "codemirror_mode": {
    "name": "ipython",
    "version": 3
   },
   "file_extension": ".py",
   "mimetype": "text/x-python",
   "name": "python",
   "nbconvert_exporter": "python",
   "pygments_lexer": "ipython3",
   "version": "3.7.3"
  }
 },
 "nbformat": 4,
 "nbformat_minor": 2
}
